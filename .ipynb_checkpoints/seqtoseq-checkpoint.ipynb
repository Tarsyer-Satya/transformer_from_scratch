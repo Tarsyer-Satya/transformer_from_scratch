{
 "cells": [
  {
   "cell_type": "code",
   "execution_count": 2,
   "id": "cd18ca29-ca81-4115-ae95-a6c728bd0fd9",
   "metadata": {},
   "outputs": [],
   "source": [
    "import random\n",
    "import spacy\n",
    "from torch.utils.tensorboard import SummaryWriter\n",
    "from torchtext.vocab import vocab\n",
    "from collections import Counter\n",
    "from tqdm import tqdm\n",
    "from torch.utils.data import DataLoader\n",
    "from torch.nn.utils.rnn import pad_sequence\n",
    "from datasets import load_dataset\n",
    "spacy_eng = spacy.load(\"en_core_web_sm\")\n",
    "spacy_ger = spacy.load(\"de_core_news_sm\")\n",
    "\n",
    "def tokenizer_ger(text):\n",
    "    return [tok.text for tok in spacy_ger.tokenizer(text)]\n",
    "\n",
    "def tokenizer_eng(text):\n",
    "    return [tok.text for tok in spacy_eng.tokenizer(text)]\n",
    "\n",
    "\n",
    "multi30k = load_dataset(\"bentrevett/multi30k\")\n",
    "train, test = multi30k['train'], multi30k['test']"
   ]
  },
  {
   "cell_type": "code",
   "execution_count": 3,
   "id": "ce5e0055-65cc-4c3d-8480-3c4b54ea0889",
   "metadata": {},
   "outputs": [
    {
     "data": {
      "text/plain": [
       "{'en': 'Two young, White males are outside near many bushes.',\n",
       " 'de': 'Zwei junge weiße Männer sind im Freien in der Nähe vieler Büsche.'}"
      ]
     },
     "execution_count": 3,
     "metadata": {},
     "output_type": "execute_result"
    }
   ],
   "source": [
    "train[0]"
   ]
  },
  {
   "cell_type": "code",
   "execution_count": 4,
   "id": "d9ae5afe-1ddc-4502-9b96-3825222352ed",
   "metadata": {},
   "outputs": [
    {
     "name": "stderr",
     "output_type": "stream",
     "text": [
      "100%|███████████████████████████████████| 29000/29000 [00:22<00:00, 1269.94it/s]\n"
     ]
    }
   ],
   "source": [
    "ger_counter = Counter()\n",
    "eng_counter = Counter()\n",
    "for data in tqdm(train):\n",
    "    ger_counter.update(tokenizer_ger(data['de'].lower()))\n",
    "    eng_counter.update(tokenizer_eng(data['en'].lower()))   "
   ]
  },
  {
   "cell_type": "code",
   "execution_count": 5,
   "id": "91bb12bb-25dc-4939-a7f6-6a431ef21bc5",
   "metadata": {},
   "outputs": [
    {
     "name": "stdout",
     "output_type": "stream",
     "text": [
      "Size of German Vocab : 7853\n",
      " Size of English Vocab : 5893\n"
     ]
    }
   ],
   "source": [
    "ger_vocab = vocab(ger_counter, min_freq=2, specials=(\"<unk>\", \"<pad>\", \"<sos>\", \"<eos>\"))\n",
    "eng_vocab = vocab(eng_counter, min_freq=2, specials=(\"<unk>\", \"<pad>\", \"<sos>\", \"<eos>\"))\n",
    "ger_vocab.set_default_index(ger_vocab[\"<unk>\"])\n",
    "eng_vocab.set_default_index(eng_vocab[\"<unk>\"])\n",
    "print(f\"Size of German Vocab : {len(ger_vocab)}\\n Size of English Vocab : {len(eng_vocab)}\")"
   ]
  },
  {
   "cell_type": "code",
   "execution_count": 6,
   "id": "7cee8ed9-ca16-46ad-91e3-ebd31e59de9c",
   "metadata": {},
   "outputs": [],
   "source": [
    "text_transform_eng = lambda x: [eng_vocab['<sos>']] + [eng_vocab[token.lower()] for token in tokenizer_eng(x)] + [eng_vocab['<eos>']]\n",
    "text_transform_ger = lambda x: [ger_vocab['<sos>']] + [ger_vocab[token.lower()] for token in tokenizer_ger(x)] + [ger_vocab['<eos>']]"
   ]
  },
  {
   "cell_type": "code",
   "execution_count": 7,
   "id": "ce303934-292a-47a8-a63f-23bc40f29e7e",
   "metadata": {},
   "outputs": [],
   "source": [
    "import torch\n",
    "def collate_batch(batch):\n",
    "    src_list, tgt_list = [], []\n",
    "    for data in batch:\n",
    "        src_list.append(torch.tensor(text_transform_ger(data['de'])))\n",
    "        tgt_list.append(torch.tensor(text_transform_eng(data['en'])))\n",
    "\n",
    "    src_list = pad_sequence(src_list, padding_value=eng_vocab['<pad>']).T\n",
    "    tgt_list = pad_sequence(tgt_list, padding_value=ger_vocab['<pad>']).T\n",
    "    \n",
    "    inp = {\n",
    "        \"src\": src_list,\n",
    "        \"tgt\": tgt_list\n",
    "    }\n",
    "\n",
    "    return inp"
   ]
  },
  {
   "cell_type": "code",
   "execution_count": 8,
   "id": "dfd89d1f-1a61-443d-9cf8-de32dfc6742c",
   "metadata": {},
   "outputs": [],
   "source": [
    "from transformer_from_scratch_v1 import Transformer\n",
    "import torch\n",
    "import math\n",
    "import torch.nn as nn\n",
    "\n",
    "num_epochs = 30\n",
    "batch_size = 16\n",
    "learning_rate = 1e-3\n",
    "weight_decay = 0.001\n",
    "writer = SummaryWriter(f\"runs/loss\")\n",
    "\n",
    "train_dataloader = DataLoader(\n",
    "    train,\n",
    "    collate_fn = collate_batch,\n",
    "    shuffle = True,\n",
    "    batch_size = batch_size,\n",
    "    pin_memory = True\n",
    ")\n",
    "\n",
    "test_dataloader = DataLoader(\n",
    "    test,\n",
    "    collate_fn = collate_batch,\n",
    "    shuffle = False,\n",
    "    batch_size = batch_size,\n",
    "    pin_memory = True\n",
    ")\n",
    "\n",
    "device = torch.device(\"cuda\" if torch.cuda.is_available() else \"cpu\")\n",
    "transformer_model = Transformer(\n",
    "    src_mask_ind = ger_vocab['<pad>'],\n",
    "    trg_mask_ind = eng_vocab['<pad>'],\n",
    "    src_vocab_size = len(eng_vocab),\n",
    "    trg_vocab_size = len(ger_vocab),\n",
    "    device = device\n",
    ").to(device)"
   ]
  },
  {
   "cell_type": "code",
   "execution_count": 9,
   "id": "253d7d84-a28a-46f8-852e-5c2c18902648",
   "metadata": {},
   "outputs": [],
   "source": [
    "total_steps = num_epochs*math.ceil(len(train)/batch_size)\n",
    "optimizer = torch.optim.Adam(transformer_model.parameters(), lr = learning_rate)\n",
    "scheduler = torch.optim.lr_scheduler.OneCycleLR(\n",
    "    optimizer,\n",
    "    max_lr = learning_rate,\n",
    "    total_steps = total_steps,\n",
    "    pct_start = 0.33,\n",
    "    div_factor = 1e3,\n",
    "    final_div_factor = 1e2\n",
    ")\n",
    "criterion = nn.CrossEntropyLoss(ignore_index = eng_vocab['<pad>'])"
   ]
  },
  {
   "cell_type": "code",
   "execution_count": 10,
   "id": "29179671-ca95-437f-a9fe-19876bdc3f63",
   "metadata": {},
   "outputs": [],
   "source": [
    "ex = collate_batch(train)"
   ]
  },
  {
   "cell_type": "code",
   "execution_count": 11,
   "id": "7bef7e92-6a05-40f3-8c16-b72ca6e58190",
   "metadata": {},
   "outputs": [
    {
     "data": {
      "text/plain": [
       "torch.Size([29000, 42])"
      ]
     },
     "execution_count": 11,
     "metadata": {},
     "output_type": "execute_result"
    }
   ],
   "source": [
    "ex['src'].shape"
   ]
  },
  {
   "cell_type": "code",
   "execution_count": 24,
   "id": "fa1f53cf-9d35-4353-961e-b911a754823c",
   "metadata": {},
   "outputs": [],
   "source": [
    "def translate_seq(model, src, device,max_len = 50):\n",
    "    model.eval()\n",
    "    trg_indexes = [ger_vocab[\"<sos>\"]]\n",
    "    for i in range(max_len):\n",
    "        trg = torch.LongTensor(trg_indexes).unsqueeze(0).to(device)\n",
    "        with torch.no_grad():\n",
    "            output = transformer_model(src,trg)\n",
    "        output[:,:,:2] = float(\"-1e20\")\n",
    "        output = output[:,-1,:]\n",
    "        output = torch.softmax(output, dim =-1)\n",
    "        pred_token = output.argmax(-1).item()\n",
    "        trg_indexes.append(pred_token)\n",
    "        if pred_token == eng_vocab[\"<eos>\"]:\n",
    "            break\n",
    "    return trg_indexes\n",
    "        "
   ]
  },
  {
   "cell_type": "code",
   "execution_count": 25,
   "id": "1e12c724-3370-4a25-92c9-bfda7f5aa86c",
   "metadata": {},
   "outputs": [
    {
     "ename": "IndexError",
     "evalue": "list index out of range",
     "output_type": "error",
     "traceback": [
      "\u001b[0;31m---------------------------------------------------------------------------\u001b[0m",
      "\u001b[0;31mIndexError\u001b[0m                                Traceback (most recent call last)",
      "Cell \u001b[0;32mIn[25], line 5\u001b[0m\n\u001b[1;32m      3\u001b[0m src_indexes \u001b[38;5;241m=\u001b[39m torch\u001b[38;5;241m.\u001b[39mtensor(text_transform_eng(sentence))\u001b[38;5;241m.\u001b[39munsqueeze(\u001b[38;5;241m0\u001b[39m)\u001b[38;5;241m.\u001b[39mto(device)\n\u001b[1;32m      4\u001b[0m translated_sentence_idx \u001b[38;5;241m=\u001b[39m translate_seq(transformer_model, src_indexes, device\u001b[38;5;241m=\u001b[39mdevice, max_len\u001b[38;5;241m=\u001b[39m\u001b[38;5;241m30\u001b[39m)\n\u001b[0;32m----> 5\u001b[0m translated_sentence \u001b[38;5;241m=\u001b[39m [eng_vocab\u001b[38;5;241m.\u001b[39mget_itos()[i] \u001b[38;5;28;01mfor\u001b[39;00m i \u001b[38;5;129;01min\u001b[39;00m translated_sentence_idx]\n\u001b[1;32m      6\u001b[0m \u001b[38;5;28mprint\u001b[39m(\u001b[38;5;124mf\u001b[39m\u001b[38;5;124m\"\u001b[39m\u001b[38;5;124mGenerated Translation : \u001b[39m\u001b[38;5;130;01m\\n\u001b[39;00m\u001b[38;5;124m \u001b[39m\u001b[38;5;132;01m{\u001b[39;00m\u001b[38;5;124m'\u001b[39m\u001b[38;5;124m \u001b[39m\u001b[38;5;124m'\u001b[39m\u001b[38;5;241m.\u001b[39mjoin(translated_sentence[\u001b[38;5;241m1\u001b[39m:\u001b[38;5;241m-\u001b[39m\u001b[38;5;241m1\u001b[39m])\u001b[38;5;132;01m}\u001b[39;00m\u001b[38;5;130;01m\\n\u001b[39;00m\u001b[38;5;124m\"\u001b[39m)\n\u001b[1;32m      7\u001b[0m \u001b[38;5;28mprint\u001b[39m(\u001b[38;5;124mf\u001b[39m\u001b[38;5;124m\"\u001b[39m\u001b[38;5;124mOriginal Translation : \u001b[39m\u001b[38;5;130;01m\\n\u001b[39;00m\u001b[38;5;132;01m{\u001b[39;00mex[\u001b[38;5;124m'\u001b[39m\u001b[38;5;124men\u001b[39m\u001b[38;5;124m'\u001b[39m]\u001b[38;5;132;01m}\u001b[39;00m\u001b[38;5;130;01m\\n\u001b[39;00m\u001b[38;5;124m\"\u001b[39m)\n",
      "Cell \u001b[0;32mIn[25], line 5\u001b[0m, in \u001b[0;36m<listcomp>\u001b[0;34m(.0)\u001b[0m\n\u001b[1;32m      3\u001b[0m src_indexes \u001b[38;5;241m=\u001b[39m torch\u001b[38;5;241m.\u001b[39mtensor(text_transform_eng(sentence))\u001b[38;5;241m.\u001b[39munsqueeze(\u001b[38;5;241m0\u001b[39m)\u001b[38;5;241m.\u001b[39mto(device)\n\u001b[1;32m      4\u001b[0m translated_sentence_idx \u001b[38;5;241m=\u001b[39m translate_seq(transformer_model, src_indexes, device\u001b[38;5;241m=\u001b[39mdevice, max_len\u001b[38;5;241m=\u001b[39m\u001b[38;5;241m30\u001b[39m)\n\u001b[0;32m----> 5\u001b[0m translated_sentence \u001b[38;5;241m=\u001b[39m [\u001b[43meng_vocab\u001b[49m\u001b[38;5;241;43m.\u001b[39;49m\u001b[43mget_itos\u001b[49m\u001b[43m(\u001b[49m\u001b[43m)\u001b[49m\u001b[43m[\u001b[49m\u001b[43mi\u001b[49m\u001b[43m]\u001b[49m \u001b[38;5;28;01mfor\u001b[39;00m i \u001b[38;5;129;01min\u001b[39;00m translated_sentence_idx]\n\u001b[1;32m      6\u001b[0m \u001b[38;5;28mprint\u001b[39m(\u001b[38;5;124mf\u001b[39m\u001b[38;5;124m\"\u001b[39m\u001b[38;5;124mGenerated Translation : \u001b[39m\u001b[38;5;130;01m\\n\u001b[39;00m\u001b[38;5;124m \u001b[39m\u001b[38;5;132;01m{\u001b[39;00m\u001b[38;5;124m'\u001b[39m\u001b[38;5;124m \u001b[39m\u001b[38;5;124m'\u001b[39m\u001b[38;5;241m.\u001b[39mjoin(translated_sentence[\u001b[38;5;241m1\u001b[39m:\u001b[38;5;241m-\u001b[39m\u001b[38;5;241m1\u001b[39m])\u001b[38;5;132;01m}\u001b[39;00m\u001b[38;5;130;01m\\n\u001b[39;00m\u001b[38;5;124m\"\u001b[39m)\n\u001b[1;32m      7\u001b[0m \u001b[38;5;28mprint\u001b[39m(\u001b[38;5;124mf\u001b[39m\u001b[38;5;124m\"\u001b[39m\u001b[38;5;124mOriginal Translation : \u001b[39m\u001b[38;5;130;01m\\n\u001b[39;00m\u001b[38;5;132;01m{\u001b[39;00mex[\u001b[38;5;124m'\u001b[39m\u001b[38;5;124men\u001b[39m\u001b[38;5;124m'\u001b[39m]\u001b[38;5;132;01m}\u001b[39;00m\u001b[38;5;130;01m\\n\u001b[39;00m\u001b[38;5;124m\"\u001b[39m)\n",
      "\u001b[0;31mIndexError\u001b[0m: list index out of range"
     ]
    }
   ],
   "source": [
    "ex = test[random.randint(0, len(test))]\n",
    "sentence = ex['de']\n",
    "src_indexes = torch.tensor(text_transform_eng(sentence)).unsqueeze(0).to(device)\n",
    "translated_sentence_idx = translate_seq(transformer_model, src_indexes, device=device, max_len=30)\n",
    "translated_sentence = [eng_vocab.get_itos()[i] for i in translated_sentence_idx]\n",
    "print(f\"Generated Translation : \\n {' '.join(translated_sentence[1:-1])}\\n\")\n",
    "print(f\"Original Translation : \\n{ex['en']}\\n\")\n"
   ]
  },
  {
   "cell_type": "code",
   "execution_count": null,
   "id": "6348ac90-ad56-4c69-82a8-279771284039",
   "metadata": {},
   "outputs": [],
   "source": []
  },
  {
   "cell_type": "code",
   "execution_count": null,
   "id": "19c2572a-f8b2-4b97-9476-97b9f6c4b7e8",
   "metadata": {},
   "outputs": [],
   "source": []
  },
  {
   "cell_type": "code",
   "execution_count": 17,
   "id": "2aab4189-09b0-4092-90e6-06db4e9eef7d",
   "metadata": {},
   "outputs": [
    {
     "name": "stdout",
     "output_type": "stream",
     "text": [
      "{'2023-01-01': {'max_temp': 30, 'min_temp': 18, 'average_temp': 23.83}, '2023-01-02': {'max_temp': 30, 'min_temp': 20, 'average_temp': 25.0}}\n"
     ]
    }
   ],
   "source": [
    "def transform_temperature_data(temperature_data):\n",
    "    result = {}\n",
    "    \n",
    "    for date, temperatures in temperature_data.items():\n",
    "        max_temp = max(temperatures)\n",
    "        min_temp = min(temperatures)\n",
    "        average_temp = sum(temperatures) / len(temperatures)\n",
    "        \n",
    "        result[date] = {\n",
    "            'max_temp': max_temp,\n",
    "            'min_temp': min_temp,\n",
    "            'average_temp': round(average_temp, 2)\n",
    "        }\n",
    "    \n",
    "    return result\n",
    "\n",
    "# Sample input for testing\n",
    "temperature_data = {\n",
    "    '2023-01-01': [25, 28, 20, 18, 30, 22],\n",
    "    '2023-01-02': [22, 24, 26, 20, 28, 30]\n",
    "}\n",
    "\n",
    "# Call the function with the sample input\n",
    "result = transform_temperature_data(temperature_data)\n",
    "print(result)  # This will print the transformed temperature data"
   ]
  },
  {
   "cell_type": "code",
   "execution_count": 19,
   "id": "fb0755d1-7802-49a5-9b87-407e4a120968",
   "metadata": {},
   "outputs": [
    {
     "data": {
      "text/plain": [
       "0"
      ]
     },
     "execution_count": 19,
     "metadata": {},
     "output_type": "execute_result"
    }
   ],
   "source": [
    "ger_vocab[\"<unk>\"]"
   ]
  }
 ],
 "metadata": {
  "kernelspec": {
   "display_name": "Python 3 (ipykernel)",
   "language": "python",
   "name": "python3"
  },
  "language_info": {
   "codemirror_mode": {
    "name": "ipython",
    "version": 3
   },
   "file_extension": ".py",
   "mimetype": "text/x-python",
   "name": "python",
   "nbconvert_exporter": "python",
   "pygments_lexer": "ipython3",
   "version": "3.10.13"
  }
 },
 "nbformat": 4,
 "nbformat_minor": 5
}
